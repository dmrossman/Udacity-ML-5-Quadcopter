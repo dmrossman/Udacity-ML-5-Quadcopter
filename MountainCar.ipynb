{
 "cells": [
  {
   "cell_type": "code",
   "execution_count": 41,
   "metadata": {},
   "outputs": [
    {
     "name": "stdout",
     "output_type": "stream",
     "text": [
      "The autoreload extension is already loaded. To reload it, use:\n",
      "  %reload_ext autoreload\n"
     ]
    }
   ],
   "source": [
    "# Troubleshooting.  So my quad doesn't want to learn.\n",
    "# Let's try the gym models\n",
    "import sys\n",
    "import gym\n",
    "import numpy as np\n",
    "import matplotlib.pyplot as plt\n",
    "from task_mountain import Task\n",
    "from agents.mountain_car import DDPG\n",
    "\n",
    "%matplotlib inline\n",
    "%load_ext autoreload\n",
    "%autoreload 2"
   ]
  },
  {
   "cell_type": "code",
   "execution_count": 42,
   "metadata": {},
   "outputs": [
    {
     "name": "stdout",
     "output_type": "stream",
     "text": [
      "\u001b[33mWARN: gym.spaces.Box autodetected dtype as <class 'numpy.float32'>. Please provide explicit dtype.\u001b[0m\n",
      "\u001b[33mWARN: gym.spaces.Box autodetected dtype as <class 'numpy.float32'>. Please provide explicit dtype.\u001b[0m\n",
      "Episode =  50"
     ]
    }
   ],
   "source": [
    "# Setup\n",
    "task = Task()\n",
    "num_episodes = 50\n",
    "agent = DDPG(task)\n",
    "\n",
    "for i_episode in range(1, num_episodes + 1):\n",
    "    state = agent.reset_episode()       # start a new episode\n",
    "    \n",
    "    while True:\n",
    "        action = agent.act(state)\n",
    "        next_state, reward, done = task.step(action)\n",
    "        agent.step(action, reward, next_state, done)\n",
    "        state = next_state\n",
    "        \n",
    "        if done:\n",
    "            print('\\rEpisode = ', i_episode, end=\"\")\n",
    "            break\n",
    "    sys.stdout.flush()"
   ]
  },
  {
   "cell_type": "code",
   "execution_count": 48,
   "metadata": {},
   "outputs": [
    {
     "name": "stdout",
     "output_type": "stream",
     "text": [
      "Count =  333 , Reward =  -0.0999997615815630188 , Reward =  -0.1 223 , Reward =  -0.1"
     ]
    }
   ],
   "source": [
    "done = False\n",
    "state = agent.reset_episode()\n",
    "count = 0\n",
    "\n",
    "while True:\n",
    "    count += 1\n",
    "    task.env.render()\n",
    "    state = np.reshape(state, [-1, 6])\n",
    "    action = agent.actor_local.model.predict(state)[0]\n",
    "    state, reward, done = task.step(action)\n",
    "    print('\\rCount = ', count, ', Reward = ', reward, end=\"\")\n",
    "    state = np.concatenate([state] * 3)\n",
    "    if done:\n",
    "        break "
   ]
  },
  {
   "cell_type": "code",
   "execution_count": 27,
   "metadata": {},
   "outputs": [],
   "source": [
    "r = env.reset()"
   ]
  },
  {
   "cell_type": "code",
   "execution_count": 28,
   "metadata": {},
   "outputs": [
    {
     "data": {
      "text/plain": [
       "array([-0.46285219,  0.        ])"
      ]
     },
     "execution_count": 28,
     "metadata": {},
     "output_type": "execute_result"
    }
   ],
   "source": [
    "r"
   ]
  },
  {
   "cell_type": "code",
   "execution_count": 35,
   "metadata": {},
   "outputs": [],
   "source": [
    "state, reward, done, info = env.step([0.0])"
   ]
  },
  {
   "cell_type": "code",
   "execution_count": 39,
   "metadata": {},
   "outputs": [
    {
     "data": {
      "text/plain": [
       "{}"
      ]
     },
     "execution_count": 39,
     "metadata": {},
     "output_type": "execute_result"
    }
   ],
   "source": [
    "info"
   ]
  },
  {
   "cell_type": "code",
   "execution_count": 33,
   "metadata": {},
   "outputs": [
    {
     "name": "stdout",
     "output_type": "stream",
     "text": [
      "(array([-0.49645801, -0.00602549]), -0.1, False, {})\n",
      "(array([-0.50418683, -0.00772882]), -0.1, False, {})\n",
      "(array([-0.51356116, -0.00937433]), -0.1, False, {})\n",
      "(array([-0.52451077, -0.0109496 ]), -0.1, False, {})\n",
      "(array([-0.53695353, -0.01244276]), -0.1, False, {})\n",
      "(array([-0.55079616, -0.01384263]), -0.1, False, {})\n",
      "(array([-0.56593503, -0.01513887]), -0.1, False, {})\n",
      "(array([-0.58225724, -0.01632221]), -0.1, False, {})\n",
      "(array([-0.59964177, -0.01738453]), -0.1, False, {})\n",
      "(array([-0.61796092, -0.01831915]), -0.1, False, {})\n"
     ]
    }
   ],
   "source": [
    "for _ in range(10):\n",
    "    print(env.step([-1.0]))"
   ]
  },
  {
   "cell_type": "code",
   "execution_count": null,
   "metadata": {},
   "outputs": [],
   "source": []
  }
 ],
 "metadata": {
  "kernelspec": {
   "display_name": "Python 3",
   "language": "python",
   "name": "python3"
  },
  "language_info": {
   "codemirror_mode": {
    "name": "ipython",
    "version": 3
   },
   "file_extension": ".py",
   "mimetype": "text/x-python",
   "name": "python",
   "nbconvert_exporter": "python",
   "pygments_lexer": "ipython3",
   "version": "3.6.3"
  }
 },
 "nbformat": 4,
 "nbformat_minor": 2
}
